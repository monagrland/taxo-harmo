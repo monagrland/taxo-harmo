{
 "cells": [
  {
   "cell_type": "code",
   "execution_count": 1,
   "id": "12ed44b0-1f55-4ed1-bb39-122fe0c25774",
   "metadata": {
    "tags": []
   },
   "outputs": [],
   "source": [
    "import pandas as pd\n",
    "import json"
   ]
  },
  {
   "cell_type": "markdown",
   "id": "55a5aa98-b383-4200-96d7-74b0c1b127b3",
   "metadata": {},
   "source": [
    "# GBIF dataset - Get current accepted names and taxonIDs"
   ]
  },
  {
   "cell_type": "markdown",
   "id": "59170a41-19ae-4e80-a8dd-7e1f3d087d7b",
   "metadata": {},
   "source": [
    "Use option `dtype=str` to avoid interpreting taxonIDs as numeric"
   ]
  },
  {
   "cell_type": "code",
   "execution_count": 2,
   "id": "46d8ab70-d699-4391-b52d-e7745cb27372",
   "metadata": {
    "tags": []
   },
   "outputs": [],
   "source": [
    "# Read GBIF Backbone taxonomy\n",
    "gbif_backbone = pd.read_table(\n",
    "    \"resources/gbif_backbone/Taxon.tsv\",\n",
    "    sep=\"\\t\",\n",
    "    dtype=str,\n",
    "    na_values=None\n",
    ")\n",
    "\n",
    "# acceptedNameUsageID is blank for currently accepted taxa\n",
    "# logically this should be equal to taxonID - makes some downstream processing less convoluted\n",
    "gbif_backbone.loc[gbif_backbone.taxonomicStatus == 'accepted', 'acceptedNameUsageID'] = gbif_backbone.loc[gbif_backbone.taxonomicStatus == 'accepted', 'taxonID']"
   ]
  },
  {
   "cell_type": "code",
   "execution_count": 3,
   "id": "7203a439-e4f5-47d7-bd55-b2676bc5d4e5",
   "metadata": {
    "tags": []
   },
   "outputs": [],
   "source": [
    "# Raw dataset\n",
    "dataset = pd.read_table(\n",
    "    \"data/0097412-230224095556074.csv\",\n",
    "    sep=\"\\t\",\n",
    "    dtype=str,\n",
    "    na_values=None\n",
    ")"
   ]
  },
  {
   "cell_type": "code",
   "execution_count": 4,
   "id": "567102bb-3530-4c3c-a6f1-25b45073bcc1",
   "metadata": {
    "tags": []
   },
   "outputs": [
    {
     "data": {
      "text/html": [
       "<div>\n",
       "<style scoped>\n",
       "    .dataframe tbody tr th:only-of-type {\n",
       "        vertical-align: middle;\n",
       "    }\n",
       "\n",
       "    .dataframe tbody tr th {\n",
       "        vertical-align: top;\n",
       "    }\n",
       "\n",
       "    .dataframe thead th {\n",
       "        text-align: right;\n",
       "    }\n",
       "</style>\n",
       "<table border=\"1\" class=\"dataframe\">\n",
       "  <thead>\n",
       "    <tr style=\"text-align: right;\">\n",
       "      <th></th>\n",
       "      <th>taxonKey</th>\n",
       "      <th>scientificName</th>\n",
       "      <th>acceptedTaxonKey</th>\n",
       "      <th>acceptedScientificName</th>\n",
       "      <th>numberOfOccurrences</th>\n",
       "      <th>taxonRank</th>\n",
       "      <th>taxonomicStatus</th>\n",
       "      <th>kingdom</th>\n",
       "      <th>kingdomKey</th>\n",
       "      <th>phylum</th>\n",
       "      <th>...</th>\n",
       "      <th>classKey</th>\n",
       "      <th>order</th>\n",
       "      <th>orderKey</th>\n",
       "      <th>family</th>\n",
       "      <th>familyKey</th>\n",
       "      <th>genus</th>\n",
       "      <th>genusKey</th>\n",
       "      <th>species</th>\n",
       "      <th>speciesKey</th>\n",
       "      <th>iucnRedListCategory</th>\n",
       "    </tr>\n",
       "  </thead>\n",
       "  <tbody>\n",
       "    <tr>\n",
       "      <th>0</th>\n",
       "      <td>2722299</td>\n",
       "      <td>Carex ×pieperiana Junge</td>\n",
       "      <td>2722300</td>\n",
       "      <td>Carex ×ruedtii Kneuck.</td>\n",
       "      <td>2</td>\n",
       "      <td>SPECIES</td>\n",
       "      <td>SYNONYM</td>\n",
       "      <td>Plantae</td>\n",
       "      <td>6</td>\n",
       "      <td>Tracheophyta</td>\n",
       "      <td>...</td>\n",
       "      <td>196</td>\n",
       "      <td>Poales</td>\n",
       "      <td>1369</td>\n",
       "      <td>Cyperaceae</td>\n",
       "      <td>7708</td>\n",
       "      <td>Carex</td>\n",
       "      <td>2721893</td>\n",
       "      <td>Carex ruedtii</td>\n",
       "      <td>2722300</td>\n",
       "      <td>NE</td>\n",
       "    </tr>\n",
       "    <tr>\n",
       "      <th>1</th>\n",
       "      <td>2874569</td>\n",
       "      <td>Cucumis sativus L.</td>\n",
       "      <td>2874569</td>\n",
       "      <td>Cucumis sativus L.</td>\n",
       "      <td>33</td>\n",
       "      <td>SPECIES</td>\n",
       "      <td>ACCEPTED</td>\n",
       "      <td>Plantae</td>\n",
       "      <td>6</td>\n",
       "      <td>Tracheophyta</td>\n",
       "      <td>...</td>\n",
       "      <td>220</td>\n",
       "      <td>Cucurbitales</td>\n",
       "      <td>7224005</td>\n",
       "      <td>Cucurbitaceae</td>\n",
       "      <td>6634</td>\n",
       "      <td>Cucumis</td>\n",
       "      <td>2874568</td>\n",
       "      <td>Cucumis sativus</td>\n",
       "      <td>2874569</td>\n",
       "      <td>NE</td>\n",
       "    </tr>\n",
       "    <tr>\n",
       "      <th>2</th>\n",
       "      <td>2888292</td>\n",
       "      <td>Pyrola media Sw.</td>\n",
       "      <td>2888292</td>\n",
       "      <td>Pyrola media Sw.</td>\n",
       "      <td>249</td>\n",
       "      <td>SPECIES</td>\n",
       "      <td>ACCEPTED</td>\n",
       "      <td>Plantae</td>\n",
       "      <td>6</td>\n",
       "      <td>Tracheophyta</td>\n",
       "      <td>...</td>\n",
       "      <td>220</td>\n",
       "      <td>Ericales</td>\n",
       "      <td>1353</td>\n",
       "      <td>Ericaceae</td>\n",
       "      <td>2505</td>\n",
       "      <td>Pyrola</td>\n",
       "      <td>2888249</td>\n",
       "      <td>Pyrola media</td>\n",
       "      <td>2888292</td>\n",
       "      <td>NE</td>\n",
       "    </tr>\n",
       "    <tr>\n",
       "      <th>3</th>\n",
       "      <td>2996064</td>\n",
       "      <td>Rubus rhytidophyllus H.E.Weber</td>\n",
       "      <td>2996064</td>\n",
       "      <td>Rubus rhytidophyllus H.E.Weber</td>\n",
       "      <td>50</td>\n",
       "      <td>SPECIES</td>\n",
       "      <td>ACCEPTED</td>\n",
       "      <td>Plantae</td>\n",
       "      <td>6</td>\n",
       "      <td>Tracheophyta</td>\n",
       "      <td>...</td>\n",
       "      <td>220</td>\n",
       "      <td>Rosales</td>\n",
       "      <td>691</td>\n",
       "      <td>Rosaceae</td>\n",
       "      <td>5015</td>\n",
       "      <td>Rubus</td>\n",
       "      <td>2988638</td>\n",
       "      <td>Rubus rhytidophyllus</td>\n",
       "      <td>2996064</td>\n",
       "      <td>NE</td>\n",
       "    </tr>\n",
       "    <tr>\n",
       "      <th>4</th>\n",
       "      <td>2998929</td>\n",
       "      <td>Rubus kiesewetteri Henker</td>\n",
       "      <td>2998929</td>\n",
       "      <td>Rubus kiesewetteri Henker</td>\n",
       "      <td>16</td>\n",
       "      <td>SPECIES</td>\n",
       "      <td>ACCEPTED</td>\n",
       "      <td>Plantae</td>\n",
       "      <td>6</td>\n",
       "      <td>Tracheophyta</td>\n",
       "      <td>...</td>\n",
       "      <td>220</td>\n",
       "      <td>Rosales</td>\n",
       "      <td>691</td>\n",
       "      <td>Rosaceae</td>\n",
       "      <td>5015</td>\n",
       "      <td>Rubus</td>\n",
       "      <td>2988638</td>\n",
       "      <td>Rubus kiesewetteri</td>\n",
       "      <td>2998929</td>\n",
       "      <td>NE</td>\n",
       "    </tr>\n",
       "  </tbody>\n",
       "</table>\n",
       "<p>5 rows × 22 columns</p>\n",
       "</div>"
      ],
      "text/plain": [
       "  taxonKey                  scientificName acceptedTaxonKey  \\\n",
       "0  2722299         Carex ×pieperiana Junge          2722300   \n",
       "1  2874569              Cucumis sativus L.          2874569   \n",
       "2  2888292                Pyrola media Sw.          2888292   \n",
       "3  2996064  Rubus rhytidophyllus H.E.Weber          2996064   \n",
       "4  2998929       Rubus kiesewetteri Henker          2998929   \n",
       "\n",
       "           acceptedScientificName numberOfOccurrences taxonRank  \\\n",
       "0          Carex ×ruedtii Kneuck.                   2   SPECIES   \n",
       "1              Cucumis sativus L.                  33   SPECIES   \n",
       "2                Pyrola media Sw.                 249   SPECIES   \n",
       "3  Rubus rhytidophyllus H.E.Weber                  50   SPECIES   \n",
       "4       Rubus kiesewetteri Henker                  16   SPECIES   \n",
       "\n",
       "  taxonomicStatus  kingdom kingdomKey        phylum  ... classKey  \\\n",
       "0         SYNONYM  Plantae          6  Tracheophyta  ...      196   \n",
       "1        ACCEPTED  Plantae          6  Tracheophyta  ...      220   \n",
       "2        ACCEPTED  Plantae          6  Tracheophyta  ...      220   \n",
       "3        ACCEPTED  Plantae          6  Tracheophyta  ...      220   \n",
       "4        ACCEPTED  Plantae          6  Tracheophyta  ...      220   \n",
       "\n",
       "          order orderKey         family familyKey    genus genusKey  \\\n",
       "0        Poales     1369     Cyperaceae      7708    Carex  2721893   \n",
       "1  Cucurbitales  7224005  Cucurbitaceae      6634  Cucumis  2874568   \n",
       "2      Ericales     1353      Ericaceae      2505   Pyrola  2888249   \n",
       "3       Rosales      691       Rosaceae      5015    Rubus  2988638   \n",
       "4       Rosales      691       Rosaceae      5015    Rubus  2988638   \n",
       "\n",
       "                species speciesKey iucnRedListCategory  \n",
       "0         Carex ruedtii    2722300                  NE  \n",
       "1       Cucumis sativus    2874569                  NE  \n",
       "2          Pyrola media    2888292                  NE  \n",
       "3  Rubus rhytidophyllus    2996064                  NE  \n",
       "4    Rubus kiesewetteri    2998929                  NE  \n",
       "\n",
       "[5 rows x 22 columns]"
      ]
     },
     "execution_count": 4,
     "metadata": {},
     "output_type": "execute_result"
    }
   ],
   "source": [
    "dataset.head()"
   ]
  },
  {
   "cell_type": "code",
   "execution_count": 5,
   "id": "689f4dfc-8edd-448c-b1ab-ef5a10198256",
   "metadata": {
    "tags": []
   },
   "outputs": [
    {
     "data": {
      "text/plain": [
       "kingdom\n",
       "Plantae           7207\n",
       "Animalia             1\n",
       "incertae sedis       1\n",
       "Name: count, dtype: int64"
      ]
     },
     "execution_count": 5,
     "metadata": {},
     "output_type": "execute_result"
    }
   ],
   "source": [
    "dataset.value_counts('kingdom')"
   ]
  },
  {
   "cell_type": "code",
   "execution_count": 6,
   "id": "07d1454d-1f9e-476b-81a3-1099398a5172",
   "metadata": {
    "tags": []
   },
   "outputs": [
    {
     "data": {
      "text/html": [
       "<div>\n",
       "<style scoped>\n",
       "    .dataframe tbody tr th:only-of-type {\n",
       "        vertical-align: middle;\n",
       "    }\n",
       "\n",
       "    .dataframe tbody tr th {\n",
       "        vertical-align: top;\n",
       "    }\n",
       "\n",
       "    .dataframe thead th {\n",
       "        text-align: right;\n",
       "    }\n",
       "</style>\n",
       "<table border=\"1\" class=\"dataframe\">\n",
       "  <thead>\n",
       "    <tr style=\"text-align: right;\">\n",
       "      <th></th>\n",
       "      <th>taxonKey</th>\n",
       "      <th>scientificName</th>\n",
       "      <th>acceptedTaxonKey</th>\n",
       "      <th>acceptedScientificName</th>\n",
       "      <th>numberOfOccurrences</th>\n",
       "      <th>taxonRank</th>\n",
       "      <th>taxonomicStatus</th>\n",
       "      <th>kingdom</th>\n",
       "      <th>kingdomKey</th>\n",
       "      <th>phylum</th>\n",
       "      <th>...</th>\n",
       "      <th>classKey</th>\n",
       "      <th>order</th>\n",
       "      <th>orderKey</th>\n",
       "      <th>family</th>\n",
       "      <th>familyKey</th>\n",
       "      <th>genus</th>\n",
       "      <th>genusKey</th>\n",
       "      <th>species</th>\n",
       "      <th>speciesKey</th>\n",
       "      <th>iucnRedListCategory</th>\n",
       "    </tr>\n",
       "  </thead>\n",
       "  <tbody>\n",
       "    <tr>\n",
       "      <th>1722</th>\n",
       "      <td>0</td>\n",
       "      <td>incertae sedis</td>\n",
       "      <td>NaN</td>\n",
       "      <td>NaN</td>\n",
       "      <td>19304</td>\n",
       "      <td>KINGDOM</td>\n",
       "      <td>NaN</td>\n",
       "      <td>incertae sedis</td>\n",
       "      <td>0</td>\n",
       "      <td>NaN</td>\n",
       "      <td>...</td>\n",
       "      <td>NaN</td>\n",
       "      <td>NaN</td>\n",
       "      <td>NaN</td>\n",
       "      <td>NaN</td>\n",
       "      <td>NaN</td>\n",
       "      <td>NaN</td>\n",
       "      <td>NaN</td>\n",
       "      <td>NaN</td>\n",
       "      <td>NaN</td>\n",
       "      <td>NaN</td>\n",
       "    </tr>\n",
       "    <tr>\n",
       "      <th>3161</th>\n",
       "      <td>1346141</td>\n",
       "      <td>Ammophila W.Kirby, 1798</td>\n",
       "      <td>1346141</td>\n",
       "      <td>Ammophila W.Kirby, 1798</td>\n",
       "      <td>485</td>\n",
       "      <td>GENUS</td>\n",
       "      <td>ACCEPTED</td>\n",
       "      <td>Animalia</td>\n",
       "      <td>1</td>\n",
       "      <td>Arthropoda</td>\n",
       "      <td>...</td>\n",
       "      <td>216</td>\n",
       "      <td>Hymenoptera</td>\n",
       "      <td>1457</td>\n",
       "      <td>Sphecidae</td>\n",
       "      <td>4352</td>\n",
       "      <td>Ammophila</td>\n",
       "      <td>1346141</td>\n",
       "      <td>NaN</td>\n",
       "      <td>NaN</td>\n",
       "      <td>NaN</td>\n",
       "    </tr>\n",
       "  </tbody>\n",
       "</table>\n",
       "<p>2 rows × 22 columns</p>\n",
       "</div>"
      ],
      "text/plain": [
       "     taxonKey           scientificName acceptedTaxonKey  \\\n",
       "1722        0           incertae sedis              NaN   \n",
       "3161  1346141  Ammophila W.Kirby, 1798          1346141   \n",
       "\n",
       "       acceptedScientificName numberOfOccurrences taxonRank taxonomicStatus  \\\n",
       "1722                      NaN               19304   KINGDOM             NaN   \n",
       "3161  Ammophila W.Kirby, 1798                 485     GENUS        ACCEPTED   \n",
       "\n",
       "             kingdom kingdomKey      phylum  ... classKey        order  \\\n",
       "1722  incertae sedis          0         NaN  ...      NaN          NaN   \n",
       "3161        Animalia          1  Arthropoda  ...      216  Hymenoptera   \n",
       "\n",
       "     orderKey     family familyKey      genus genusKey species speciesKey  \\\n",
       "1722      NaN        NaN       NaN        NaN      NaN     NaN        NaN   \n",
       "3161     1457  Sphecidae      4352  Ammophila  1346141     NaN        NaN   \n",
       "\n",
       "     iucnRedListCategory  \n",
       "1722                 NaN  \n",
       "3161                 NaN  \n",
       "\n",
       "[2 rows x 22 columns]"
      ]
     },
     "execution_count": 6,
     "metadata": {},
     "output_type": "execute_result"
    }
   ],
   "source": [
    "dataset.query('kingdom != \"Plantae\"')"
   ]
  },
  {
   "cell_type": "code",
   "execution_count": 70,
   "id": "73a75803-9ef0-4f88-bb96-911b2cd9772c",
   "metadata": {
    "tags": []
   },
   "outputs": [],
   "source": [
    "# Merge on taxonID\n",
    "dataset_merged = pd.merge(\n",
    "    left=dataset.query(\"taxonRank == 'SPECIES'\")[['taxonKey','scientificName']],\n",
    "    right=gbif_backbone[[\n",
    "        'taxonID',\n",
    "        'parentNameUsageID',\n",
    "        'scientificName',\n",
    "        'scientificNameAuthorship',\n",
    "        'canonicalName',\n",
    "        'acceptedNameUsageID',\n",
    "        'taxonomicStatus',\n",
    "        'kingdom','phylum','class','order','family','genus'\n",
    "    ]],\n",
    "    how='left',\n",
    "    left_on = 'taxonKey',\n",
    "    right_on = 'taxonID'\n",
    ").rename(\n",
    "    columns={\n",
    "        'scientificName_y' : 'scientificName',\n",
    "        'taxonKey' : 'dataset_taxonID',\n",
    "        'scientificName_x' : 'dataset_scientificName'\n",
    "    }\n",
    ")"
   ]
  },
  {
   "cell_type": "code",
   "execution_count": 71,
   "id": "49c7e4f7-5c4c-42cf-ac10-aa90436cf4d7",
   "metadata": {},
   "outputs": [],
   "source": [
    "# Get accepted scientific name\n",
    "dataset_merged = pd.merge(\n",
    "    left=dataset_merged,\n",
    "    right=gbif_backbone[['taxonID','scientificName']].rename(columns={'taxonID' : 'acceptedNameUsageID', 'scientificName' : 'acceptedName'}),\n",
    "    left_on=\"acceptedNameUsageID\",\n",
    "    right_on=\"acceptedNameUsageID\",\n",
    "    how=\"left\"\n",
    ")"
   ]
  },
  {
   "cell_type": "code",
   "execution_count": 72,
   "id": "7a7959db-d31d-4ea5-a24c-1e4f74e525a6",
   "metadata": {
    "tags": []
   },
   "outputs": [
    {
     "data": {
      "text/plain": [
       "taxonomicStatus\n",
       "accepted               4873\n",
       "synonym                 396\n",
       "homotypic synonym       367\n",
       "doubtful                105\n",
       "heterotypic synonym      85\n",
       "NaN                      50\n",
       "Name: count, dtype: int64"
      ]
     },
     "execution_count": 72,
     "metadata": {},
     "output_type": "execute_result"
    }
   ],
   "source": [
    "# NaN: taxonID not present in the current GBIF backbone taxonomy\n",
    "# Doubtful: no accepted name in current GBIF backbone taxonomy\n",
    "dataset_merged.value_counts('taxonomicStatus', dropna=False)"
   ]
  },
  {
   "cell_type": "code",
   "execution_count": 73,
   "id": "081c209b-660e-46c4-abdb-833eb36fc552",
   "metadata": {
    "tags": []
   },
   "outputs": [],
   "source": [
    "# Drop doubtful and missing taxa\n",
    "dataset_merged_curr = dataset_merged[[not i for i in dataset_merged.acceptedNameUsageID.isna()]]"
   ]
  },
  {
   "cell_type": "code",
   "execution_count": 74,
   "id": "0b3c66a7-6c3f-4dd3-8754-d2b8e623dbec",
   "metadata": {
    "tags": []
   },
   "outputs": [
    {
     "data": {
      "text/plain": [
       "class\n",
       "Magnoliopsida     4534\n",
       "Liliopsida        1013\n",
       "Polypodiopsida     102\n",
       "Pinopsida           57\n",
       "Lycopodiopsida      14\n",
       "Ginkgoopsida         1\n",
       "Name: count, dtype: int64"
      ]
     },
     "execution_count": 74,
     "metadata": {},
     "output_type": "execute_result"
    }
   ],
   "source": [
    "dataset_merged_curr.value_counts('class')"
   ]
  },
  {
   "cell_type": "code",
   "execution_count": 75,
   "id": "c5bc8f37-3d4c-47e0-ba9c-a3a94654e594",
   "metadata": {
    "tags": []
   },
   "outputs": [],
   "source": [
    "dataset_merged_curr[['scientificName','family','taxonID']].to_csv(\"dataset_merged_curr.tsv\", sep=\"\\t\", index=False, quoting=None)"
   ]
  },
  {
   "cell_type": "code",
   "execution_count": 76,
   "id": "b9b8a4c6-8a31-4eff-af28-03585faf4e05",
   "metadata": {
    "tags": []
   },
   "outputs": [
    {
     "data": {
      "text/html": [
       "<div>\n",
       "<style scoped>\n",
       "    .dataframe tbody tr th:only-of-type {\n",
       "        vertical-align: middle;\n",
       "    }\n",
       "\n",
       "    .dataframe tbody tr th {\n",
       "        vertical-align: top;\n",
       "    }\n",
       "\n",
       "    .dataframe thead th {\n",
       "        text-align: right;\n",
       "    }\n",
       "</style>\n",
       "<table border=\"1\" class=\"dataframe\">\n",
       "  <thead>\n",
       "    <tr style=\"text-align: right;\">\n",
       "      <th></th>\n",
       "      <th>dataset_taxonID</th>\n",
       "      <th>dataset_scientificName</th>\n",
       "      <th>taxonID</th>\n",
       "      <th>parentNameUsageID</th>\n",
       "      <th>scientificName</th>\n",
       "      <th>scientificNameAuthorship</th>\n",
       "      <th>canonicalName</th>\n",
       "      <th>acceptedNameUsageID</th>\n",
       "      <th>taxonomicStatus</th>\n",
       "      <th>kingdom</th>\n",
       "      <th>phylum</th>\n",
       "      <th>class</th>\n",
       "      <th>order</th>\n",
       "      <th>family</th>\n",
       "      <th>genus</th>\n",
       "      <th>acceptedName</th>\n",
       "    </tr>\n",
       "  </thead>\n",
       "  <tbody>\n",
       "    <tr>\n",
       "      <th>0</th>\n",
       "      <td>2722299</td>\n",
       "      <td>Carex ×pieperiana Junge</td>\n",
       "      <td>2722299</td>\n",
       "      <td>2721893</td>\n",
       "      <td>Carex pieperiana Junge</td>\n",
       "      <td>Junge</td>\n",
       "      <td>Carex pieperiana</td>\n",
       "      <td>2722300</td>\n",
       "      <td>synonym</td>\n",
       "      <td>Plantae</td>\n",
       "      <td>Tracheophyta</td>\n",
       "      <td>Liliopsida</td>\n",
       "      <td>Poales</td>\n",
       "      <td>Cyperaceae</td>\n",
       "      <td>Carex</td>\n",
       "      <td>Carex ruedtii Kneuck.</td>\n",
       "    </tr>\n",
       "    <tr>\n",
       "      <th>1</th>\n",
       "      <td>2874569</td>\n",
       "      <td>Cucumis sativus L.</td>\n",
       "      <td>2874569</td>\n",
       "      <td>2874568</td>\n",
       "      <td>Cucumis sativus L.</td>\n",
       "      <td>L.</td>\n",
       "      <td>Cucumis sativus</td>\n",
       "      <td>2874569</td>\n",
       "      <td>accepted</td>\n",
       "      <td>Plantae</td>\n",
       "      <td>Tracheophyta</td>\n",
       "      <td>Magnoliopsida</td>\n",
       "      <td>Cucurbitales</td>\n",
       "      <td>Cucurbitaceae</td>\n",
       "      <td>Cucumis</td>\n",
       "      <td>Cucumis sativus L.</td>\n",
       "    </tr>\n",
       "    <tr>\n",
       "      <th>2</th>\n",
       "      <td>2888292</td>\n",
       "      <td>Pyrola media Sw.</td>\n",
       "      <td>2888292</td>\n",
       "      <td>2888249</td>\n",
       "      <td>Pyrola media Sw.</td>\n",
       "      <td>Sw.</td>\n",
       "      <td>Pyrola media</td>\n",
       "      <td>2888292</td>\n",
       "      <td>accepted</td>\n",
       "      <td>Plantae</td>\n",
       "      <td>Tracheophyta</td>\n",
       "      <td>Magnoliopsida</td>\n",
       "      <td>Ericales</td>\n",
       "      <td>Ericaceae</td>\n",
       "      <td>Pyrola</td>\n",
       "      <td>Pyrola media Sw.</td>\n",
       "    </tr>\n",
       "    <tr>\n",
       "      <th>3</th>\n",
       "      <td>2996064</td>\n",
       "      <td>Rubus rhytidophyllus H.E.Weber</td>\n",
       "      <td>2996064</td>\n",
       "      <td>2988638</td>\n",
       "      <td>Rubus rhytidophyllus H.E.Weber</td>\n",
       "      <td>H.E.Weber</td>\n",
       "      <td>Rubus rhytidophyllus</td>\n",
       "      <td>2996064</td>\n",
       "      <td>accepted</td>\n",
       "      <td>Plantae</td>\n",
       "      <td>Tracheophyta</td>\n",
       "      <td>Magnoliopsida</td>\n",
       "      <td>Rosales</td>\n",
       "      <td>Rosaceae</td>\n",
       "      <td>Rubus</td>\n",
       "      <td>Rubus rhytidophyllus H.E.Weber</td>\n",
       "    </tr>\n",
       "    <tr>\n",
       "      <th>4</th>\n",
       "      <td>2998929</td>\n",
       "      <td>Rubus kiesewetteri Henker</td>\n",
       "      <td>2998929</td>\n",
       "      <td>2988638</td>\n",
       "      <td>Rubus kiesewetteri Henker</td>\n",
       "      <td>Henker</td>\n",
       "      <td>Rubus kiesewetteri</td>\n",
       "      <td>2998929</td>\n",
       "      <td>accepted</td>\n",
       "      <td>Plantae</td>\n",
       "      <td>Tracheophyta</td>\n",
       "      <td>Magnoliopsida</td>\n",
       "      <td>Rosales</td>\n",
       "      <td>Rosaceae</td>\n",
       "      <td>Rubus</td>\n",
       "      <td>Rubus kiesewetteri Henker</td>\n",
       "    </tr>\n",
       "  </tbody>\n",
       "</table>\n",
       "</div>"
      ],
      "text/plain": [
       "  dataset_taxonID          dataset_scientificName  taxonID parentNameUsageID  \\\n",
       "0         2722299         Carex ×pieperiana Junge  2722299           2721893   \n",
       "1         2874569              Cucumis sativus L.  2874569           2874568   \n",
       "2         2888292                Pyrola media Sw.  2888292           2888249   \n",
       "3         2996064  Rubus rhytidophyllus H.E.Weber  2996064           2988638   \n",
       "4         2998929       Rubus kiesewetteri Henker  2998929           2988638   \n",
       "\n",
       "                   scientificName scientificNameAuthorship  \\\n",
       "0          Carex pieperiana Junge                    Junge   \n",
       "1              Cucumis sativus L.                       L.   \n",
       "2                Pyrola media Sw.                      Sw.   \n",
       "3  Rubus rhytidophyllus H.E.Weber                H.E.Weber   \n",
       "4       Rubus kiesewetteri Henker                   Henker   \n",
       "\n",
       "          canonicalName acceptedNameUsageID taxonomicStatus  kingdom  \\\n",
       "0      Carex pieperiana             2722300         synonym  Plantae   \n",
       "1       Cucumis sativus             2874569        accepted  Plantae   \n",
       "2          Pyrola media             2888292        accepted  Plantae   \n",
       "3  Rubus rhytidophyllus             2996064        accepted  Plantae   \n",
       "4    Rubus kiesewetteri             2998929        accepted  Plantae   \n",
       "\n",
       "         phylum          class         order         family    genus  \\\n",
       "0  Tracheophyta     Liliopsida        Poales     Cyperaceae    Carex   \n",
       "1  Tracheophyta  Magnoliopsida  Cucurbitales  Cucurbitaceae  Cucumis   \n",
       "2  Tracheophyta  Magnoliopsida      Ericales      Ericaceae   Pyrola   \n",
       "3  Tracheophyta  Magnoliopsida       Rosales       Rosaceae    Rubus   \n",
       "4  Tracheophyta  Magnoliopsida       Rosales       Rosaceae    Rubus   \n",
       "\n",
       "                     acceptedName  \n",
       "0           Carex ruedtii Kneuck.  \n",
       "1              Cucumis sativus L.  \n",
       "2                Pyrola media Sw.  \n",
       "3  Rubus rhytidophyllus H.E.Weber  \n",
       "4       Rubus kiesewetteri Henker  "
      ]
     },
     "execution_count": 76,
     "metadata": {},
     "output_type": "execute_result"
    }
   ],
   "source": [
    "dataset_merged_curr.head()"
   ]
  },
  {
   "cell_type": "markdown",
   "id": "e3f19e0e-aed2-486f-b917-3e0db42cc091",
   "metadata": {},
   "source": [
    "# NCBI Taxonomy - get species level taxa within Viridiplantae"
   ]
  },
  {
   "cell_type": "code",
   "execution_count": 13,
   "id": "4c544578-24ae-4098-97dc-ba820a7c3636",
   "metadata": {
    "tags": []
   },
   "outputs": [],
   "source": [
    "shortlist = {}\n",
    "# Faster to use taxidlineage from new_taxdump than to compute lineages locally\n",
    "with open('resources/ncbi_taxonomy/taxidlineage.dmp', 'r') as fh_in:\n",
    "    for line in fh_in:\n",
    "        spl = line.split(\"\\t|\\t\")\n",
    "        if len(spl) > 1:\n",
    "            lineage = spl[1].split(\" \")\n",
    "            if \"33090\" in lineage: # Viridplantae taxonID\n",
    "                shortlist[spl[0]] = { 'lineage' : lineage }\n",
    "with open('resources/ncbi_taxonomy/nodes.dmp', 'r') as fh_in:\n",
    "    for line in fh_in:\n",
    "        spl = line.split(\"\\t|\\t\")\n",
    "        if len(spl) > 3:\n",
    "            if spl[0] in shortlist and spl[2] == \"species\":\n",
    "                shortlist[spl[0]]['rank'] = 'species'\n",
    "with open('resources/ncbi_taxonomy/names.dmp', 'r') as fh_in:\n",
    "    for line in fh_in:\n",
    "        spl = line.removesuffix(\"\\t|\\n\").split(\"\\t|\\t\")\n",
    "        if spl[0] in shortlist and 'rank' in shortlist[spl[0]] and shortlist[spl[0]]['rank'] == 'species':\n",
    "            if spl[3] == 'scientific name': # Should only be one\n",
    "                shortlist[spl[0]]['canonicalName'] = spl[1]\n",
    "            elif spl[3] == 'authority': # there can be more than one 'authority' for a given taxonID because synonyms share same NCBI taxonID\n",
    "                if 'scientificName' not in shortlist[spl[0]]:\n",
    "                    shortlist[spl[0]]['scientificName'] = [spl[1]]\n",
    "                else:\n",
    "                    shortlist[spl[0]]['scientificName'].append(spl[1])\n",
    "with open('ncbi_viridiplantae.tsv', 'w') as fh_out:\n",
    "    fh_out.write(\"scientificName\\ttaxonID\\n\") # Header line\n",
    "    for taxid in shortlist:\n",
    "        if 'rank' in shortlist[taxid] and shortlist[taxid]['rank'] == 'species':\n",
    "            if 'scientificName' in shortlist[taxid]:\n",
    "                for name in shortlist[taxid]['scientificName']:\n",
    "                    fh_out.write(\"\\t\".join([name, taxid]))\n",
    "                    fh_out.write(\"\\n\")\n",
    "            elif 'canonicalName' in shortlist[taxid]:\n",
    "                fh_out.write(\"\\t\".join([shortlist[taxid]['canonicalName'], taxid]))\n",
    "                fh_out.write(\"\\n\")\n",
    "            else:\n",
    "                print(\"Warning: no scientificName or canonicalName for taxon \" + taxid)"
   ]
  },
  {
   "cell_type": "code",
   "execution_count": 14,
   "id": "7bc50c24-303a-4aa0-8e02-079479583704",
   "metadata": {
    "tags": []
   },
   "outputs": [
    {
     "name": "stdout",
     "output_type": "stream",
     "text": [
      "scientificName\ttaxonID\n",
      "Chloroparvula japonica Lopes dos Santos, Noel & Eikrem, 2017\t1411623\n",
      "Chloroparvula pacifica Lopes dos Santos, Noel & Eikrem, 2017\t1883388\n",
      "Chloroparvula cf. pacifica RCC999\t464255\n",
      "Chloroparvula sp.\t2850713\n",
      "Chloroparvula sp. RCC4572\t2565274\n",
      "Chloroparvula sp. RCC696\t2565275\n",
      "Chloroparvula sp. RCC999\t2565276\n",
      "Chloropicon laureae Lopes dos Santos & Eikrem, 2017\t464258\n",
      "Chloropicon mariensis Eikrem & Lopes dos Santos, 2017\t1606511\n"
     ]
    }
   ],
   "source": [
    "%%bash\n",
    "head ncbi_viridiplantae.tsv"
   ]
  },
  {
   "cell_type": "markdown",
   "id": "08823724-77da-4335-80f2-bf68a14ae538",
   "metadata": {},
   "source": [
    "# Find matches with gndiff\n",
    "\n",
    "Name matching between scientific names (including authors) from GBIF and the NCBI Taxonomy (subset of taxa belonging to Viridiplantae), with authors where available.\n",
    "\n",
    "[Gndiff](https://github.com/gnames/gndiff) is a tool from the Global Names Architecture project, which allows comparison of Linnean scientific names between two text tables. There are other GNA tools available, including a lookup service (Gnfinder) but we decided on Gndiff because we wanted a tool that could be used offline with a specific version of the databases of interest, in order to keep analysis reproducible."
   ]
  },
  {
   "cell_type": "code",
   "execution_count": 77,
   "id": "1265a69e-80b4-4e7d-a451-c1f3fdcbaa53",
   "metadata": {
    "tags": []
   },
   "outputs": [],
   "source": [
    "%%bash\n",
    "sed -i 's/\\\"//g' ncbi_viridiplantae.tsv # Strip quote chars\n",
    "gndiff --format pretty dataset_merged_curr.tsv ncbi_viridiplantae.tsv > round_1.json"
   ]
  },
  {
   "cell_type": "code",
   "execution_count": 78,
   "id": "ccc4bea1-bdb6-4dda-99b7-6c6ccf7e3113",
   "metadata": {
    "tags": []
   },
   "outputs": [],
   "source": [
    "def classify_gndiff_result(match):\n",
    "    \"\"\"Classify name matching results from gndiff\n",
    "    \n",
    "    Names from GBIF used as source, names NCBI taxonomy as reference. Gndiff performs name\n",
    "    matching (including author if available) and classifies matches as \"Exact\", \"Partial\",\n",
    "    or \"Fuzzy\". However, the \"Exact\" match only takes the binomen into account, so the\n",
    "    author fields may be missing or mismatched. We wish to be able to detect homonyms so\n",
    "    the author field is important to us.\n",
    "    \n",
    "    Parameters\n",
    "    ----------\n",
    "    match : dict\n",
    "        Individual match results in list 'Matches' from gndiff results. Results reported\n",
    "        in json format and parsed by python json.load\n",
    "    \n",
    "    Returns\n",
    "    -------\n",
    "    dict\n",
    "        With the following keys: `gbif_speciesName`, `gbif_taxonID` (from `sourceRecord`),\n",
    "        `ncbi_speciesName`, `ncbi_taxonID` (from `referenceRecords`), and the hit\n",
    "        classified under `status` (possible values: `exact_match`, `author_mismatch`, `noauthor`,\n",
    "        `fuzzy`, `partial`, `no_hit`.\n",
    "    \"\"\"\n",
    "    rec = {\n",
    "        'gbif_speciesName' : i['sourceRecord']['name'],\n",
    "        'gbif_taxonID' : i['sourceRecord']['id'],\n",
    "    }\n",
    "    if 'referenceRecords' in match and match['referenceRecords']: # key present and not null\n",
    "        # At least one hit - if multiple hits, top hit should have best score\n",
    "        if len(match['referenceRecords']) >= 1:\n",
    "            # Record match in NCBI database\n",
    "            rec['ncbi_speciesName'] = match['referenceRecords'][0]['name']\n",
    "            rec['ncbi_taxonID'] = match['referenceRecords'][0]['id']\n",
    "            # Exact matching names\n",
    "            if match['referenceRecords'][0]['matchType'] == 'Exact':\n",
    "                # Author names are present\n",
    "                if 'authors' in match['sourceRecord'] and 'authors' in match['referenceRecords'][0]:\n",
    "                    # Author names exactly match\n",
    "                    if set(match['sourceRecord']['authors']) == set(match['referenceRecords'][0]['authors']):\n",
    "                        rec['status'] = 'exact_match'\n",
    "                    # Author names do not match\n",
    "                    else:\n",
    "                        rec['status'] = 'author_mismatch'\n",
    "                # One or both sets of author names absent\n",
    "                else:\n",
    "                    rec['status'] = 'noauthor'\n",
    "            elif match['referenceRecords'][0]['matchType'] == 'Fuzzy':\n",
    "                # Fuzzy match\n",
    "                rec['status'] = 'fuzzy'\n",
    "            elif match['referenceRecords'][0]['matchType'].startswith(\"Partial\"):\n",
    "                # If best hit is only a partial match, e.g. only genus matches,\n",
    "                # then it is discarded\n",
    "                rec['status'] = 'partial'\n",
    "                rec['ncbi_speciesName'] = \"\"\n",
    "                rec['ncbi_taxonID'] = \"\"\n",
    "    else:\n",
    "        rec['status'] = 'no_hit'\n",
    "    return(rec)"
   ]
  },
  {
   "cell_type": "code",
   "execution_count": 79,
   "id": "d15a15ec-7302-4f4b-9018-261ed3d5f6f5",
   "metadata": {
    "tags": []
   },
   "outputs": [],
   "source": [
    "# Read results from gndiff\n",
    "with open('round_1.json', 'r') as fh:\n",
    "    hits1 = json.load(fh)\n",
    "\n",
    "# Classify status of results by our criteria\n",
    "hits1_parsed = []\n",
    "for i in hits1['Matches']:\n",
    "    rec = classify_gndiff_result(i)\n",
    "    hits1_parsed.append(rec)\n",
    "\n",
    "# Convert to data frame\n",
    "hits1_df = pd.DataFrame(hits1_parsed).fillna('')"
   ]
  },
  {
   "cell_type": "code",
   "execution_count": 80,
   "id": "4eca0a3a-493b-4075-ad58-ff02484defb1",
   "metadata": {
    "tags": []
   },
   "outputs": [
    {
     "data": {
      "text/plain": [
       "status\n",
       "exact_match        3526\n",
       "partial            1441\n",
       "author_mismatch     445\n",
       "no_hit              207\n",
       "noauthor             67\n",
       "fuzzy                35\n",
       "Name: count, dtype: int64"
      ]
     },
     "execution_count": 80,
     "metadata": {},
     "output_type": "execute_result"
    }
   ],
   "source": [
    "hits1_df.value_counts(\"status\", dropna=False)"
   ]
  },
  {
   "cell_type": "code",
   "execution_count": 81,
   "id": "529bb557-42e9-4ec5-b938-4b284eae3b31",
   "metadata": {
    "tags": []
   },
   "outputs": [],
   "source": [
    "# Merge matched names with the original table\n",
    "round1_matched = pd.merge(\n",
    "    left=dataset_merged_curr,\n",
    "    right=hits1_df.query(\"ncbi_taxonID != ''\"),\n",
    "    how='right',\n",
    "    left_on=\"taxonID\",\n",
    "    right_on=\"gbif_taxonID\",\n",
    ")[[\n",
    "    'dataset_scientificName',\n",
    "    'dataset_taxonID',\n",
    "    'acceptedNameUsageID',\n",
    "    'acceptedName',\n",
    "    'gbif_speciesName',\n",
    "    'gbif_taxonID',\n",
    "    'taxonomicStatus',\n",
    "    'ncbi_speciesName',\n",
    "    'ncbi_taxonID',\n",
    "    'status'\n",
    "]]"
   ]
  },
  {
   "cell_type": "code",
   "execution_count": 82,
   "id": "ae5352e2-87b2-4dad-b603-e75a55f23223",
   "metadata": {},
   "outputs": [
    {
     "data": {
      "text/html": [
       "<div>\n",
       "<style scoped>\n",
       "    .dataframe tbody tr th:only-of-type {\n",
       "        vertical-align: middle;\n",
       "    }\n",
       "\n",
       "    .dataframe tbody tr th {\n",
       "        vertical-align: top;\n",
       "    }\n",
       "\n",
       "    .dataframe thead th {\n",
       "        text-align: right;\n",
       "    }\n",
       "</style>\n",
       "<table border=\"1\" class=\"dataframe\">\n",
       "  <thead>\n",
       "    <tr style=\"text-align: right;\">\n",
       "      <th></th>\n",
       "      <th>dataset_scientificName</th>\n",
       "      <th>dataset_taxonID</th>\n",
       "      <th>acceptedNameUsageID</th>\n",
       "      <th>acceptedName</th>\n",
       "      <th>gbif_speciesName</th>\n",
       "      <th>gbif_taxonID</th>\n",
       "      <th>taxonomicStatus</th>\n",
       "      <th>ncbi_speciesName</th>\n",
       "      <th>ncbi_taxonID</th>\n",
       "      <th>status</th>\n",
       "    </tr>\n",
       "  </thead>\n",
       "  <tbody>\n",
       "    <tr>\n",
       "      <th>0</th>\n",
       "      <td>Cucumis sativus L.</td>\n",
       "      <td>2874569</td>\n",
       "      <td>2874569</td>\n",
       "      <td>Cucumis sativus L.</td>\n",
       "      <td>Cucumis sativus L.</td>\n",
       "      <td>2874569</td>\n",
       "      <td>accepted</td>\n",
       "      <td>Cucumis sativus L.</td>\n",
       "      <td>3659</td>\n",
       "      <td>exact_match</td>\n",
       "    </tr>\n",
       "    <tr>\n",
       "      <th>1</th>\n",
       "      <td>Pyrola media Sw.</td>\n",
       "      <td>2888292</td>\n",
       "      <td>2888292</td>\n",
       "      <td>Pyrola media Sw.</td>\n",
       "      <td>Pyrola media Sw.</td>\n",
       "      <td>2888292</td>\n",
       "      <td>accepted</td>\n",
       "      <td>Pyrola media Sw.</td>\n",
       "      <td>642534</td>\n",
       "      <td>exact_match</td>\n",
       "    </tr>\n",
       "    <tr>\n",
       "      <th>2</th>\n",
       "      <td>Hedera colchica (K.Koch) K.Koch</td>\n",
       "      <td>3036033</td>\n",
       "      <td>3036033</td>\n",
       "      <td>Hedera colchica (K.Koch) K.Koch</td>\n",
       "      <td>Hedera colchica (K.Koch) K.Koch</td>\n",
       "      <td>3036033</td>\n",
       "      <td>accepted</td>\n",
       "      <td>Hedera colchica (K.Koch) K.Koch</td>\n",
       "      <td>82097</td>\n",
       "      <td>exact_match</td>\n",
       "    </tr>\n",
       "    <tr>\n",
       "      <th>3</th>\n",
       "      <td>Vinca minor L.</td>\n",
       "      <td>3169707</td>\n",
       "      <td>3169707</td>\n",
       "      <td>Vinca minor L.</td>\n",
       "      <td>Vinca minor L.</td>\n",
       "      <td>3169707</td>\n",
       "      <td>accepted</td>\n",
       "      <td>Vinca minor L.</td>\n",
       "      <td>60093</td>\n",
       "      <td>exact_match</td>\n",
       "    </tr>\n",
       "    <tr>\n",
       "      <th>4</th>\n",
       "      <td>Drosera intermedia Hayne</td>\n",
       "      <td>3191157</td>\n",
       "      <td>3191157</td>\n",
       "      <td>Drosera intermedia Hayne</td>\n",
       "      <td>Drosera intermedia Hayne</td>\n",
       "      <td>3191157</td>\n",
       "      <td>accepted</td>\n",
       "      <td>Drosera intermedia Hayne</td>\n",
       "      <td>463625</td>\n",
       "      <td>exact_match</td>\n",
       "    </tr>\n",
       "  </tbody>\n",
       "</table>\n",
       "</div>"
      ],
      "text/plain": [
       "            dataset_scientificName dataset_taxonID acceptedNameUsageID  \\\n",
       "0               Cucumis sativus L.         2874569             2874569   \n",
       "1                 Pyrola media Sw.         2888292             2888292   \n",
       "2  Hedera colchica (K.Koch) K.Koch         3036033             3036033   \n",
       "3                   Vinca minor L.         3169707             3169707   \n",
       "4         Drosera intermedia Hayne         3191157             3191157   \n",
       "\n",
       "                      acceptedName                 gbif_speciesName  \\\n",
       "0               Cucumis sativus L.               Cucumis sativus L.   \n",
       "1                 Pyrola media Sw.                 Pyrola media Sw.   \n",
       "2  Hedera colchica (K.Koch) K.Koch  Hedera colchica (K.Koch) K.Koch   \n",
       "3                   Vinca minor L.                   Vinca minor L.   \n",
       "4         Drosera intermedia Hayne         Drosera intermedia Hayne   \n",
       "\n",
       "  gbif_taxonID taxonomicStatus                 ncbi_speciesName ncbi_taxonID  \\\n",
       "0      2874569        accepted               Cucumis sativus L.         3659   \n",
       "1      2888292        accepted                 Pyrola media Sw.       642534   \n",
       "2      3036033        accepted  Hedera colchica (K.Koch) K.Koch        82097   \n",
       "3      3169707        accepted                   Vinca minor L.        60093   \n",
       "4      3191157        accepted         Drosera intermedia Hayne       463625   \n",
       "\n",
       "        status  \n",
       "0  exact_match  \n",
       "1  exact_match  \n",
       "2  exact_match  \n",
       "3  exact_match  \n",
       "4  exact_match  "
      ]
     },
     "execution_count": 82,
     "metadata": {},
     "output_type": "execute_result"
    }
   ],
   "source": [
    "round1_matched.head()"
   ]
  },
  {
   "cell_type": "code",
   "execution_count": 83,
   "id": "5b5893ef-177f-4462-a9c0-954d75a985ba",
   "metadata": {},
   "outputs": [
    {
     "data": {
      "text/plain": [
       "4073"
      ]
     },
     "execution_count": 83,
     "metadata": {},
     "output_type": "execute_result"
    }
   ],
   "source": [
    "round1_matched.shape[0]"
   ]
  },
  {
   "cell_type": "markdown",
   "id": "8d9360ee-4c29-4c11-b570-3c53446757f9",
   "metadata": {},
   "source": [
    "## For names with no hits, get synonyms and do matching again\n",
    "\n",
    "Matches in the NCBI taxonomy were not found for about a fifth of the GBIF names in the first round. It is possible that some of those species are known under a different synonym in the NCBI database.\n",
    "\n",
    "From the GBIF databsae, we search for known synonyms to each name by finding other names with the same `acceptedNameUsageID`, and then match these synonyms against the NCBI list.\n",
    "\n",
    "Note that this assumes that the synonyms represent equivalent taxonomic concepts and that synonymy is transitive, which may not be true!"
   ]
  },
  {
   "cell_type": "code",
   "execution_count": 84,
   "id": "9696b452-ed07-43fa-ae02-f147af4d5801",
   "metadata": {
    "tags": []
   },
   "outputs": [],
   "source": [
    "# Names with no hits in the first round of matching\n",
    "round1_nohits = pd.merge(\n",
    "    left=hits1_df.query(\"ncbi_taxonID == ''\"),\n",
    "    right=dataset_merged_curr,\n",
    "    left_on=\"gbif_taxonID\",\n",
    "    right_on=\"taxonID\"\n",
    ")[['dataset_scientificName','dataset_taxonID','acceptedNameUsageID','acceptedName']]"
   ]
  },
  {
   "cell_type": "code",
   "execution_count": 85,
   "id": "42980806-581e-4b63-86a0-bbec36c304ec",
   "metadata": {
    "tags": []
   },
   "outputs": [],
   "source": [
    "# Get the synonyms from the GBIF Backbone Taxonomy\n",
    "round1_nohits_synonyms = pd.merge(\n",
    "    left=round1_nohits,\n",
    "    right=gbif_backbone[['taxonID','scientificName','acceptedNameUsageID','taxonomicStatus']],\n",
    "    left_on=\"acceptedNameUsageID\",\n",
    "    right_on=\"acceptedNameUsageID\"\n",
    ")"
   ]
  },
  {
   "cell_type": "code",
   "execution_count": 86,
   "id": "2f944e0b-6742-42a5-8b7a-db9f71224d82",
   "metadata": {
    "tags": []
   },
   "outputs": [
    {
     "data": {
      "text/plain": [
       "taxonomicStatus\n",
       "synonym                15891\n",
       "homotypic synonym       1964\n",
       "accepted                1640\n",
       "heterotypic synonym     1640\n",
       "proparte synonym          35\n",
       "Name: count, dtype: int64"
      ]
     },
     "execution_count": 86,
     "metadata": {},
     "output_type": "execute_result"
    }
   ],
   "source": [
    "round1_nohits_synonyms.value_counts(\"taxonomicStatus\", dropna=False)"
   ]
  },
  {
   "cell_type": "code",
   "execution_count": 87,
   "id": "d5ca08f8-c68c-4277-bca9-23f382bdb6d5",
   "metadata": {
    "tags": []
   },
   "outputs": [],
   "source": [
    "# Write to CSV for Gndiff\n",
    "round1_nohits_synonyms[['scientificName','taxonID']].to_csv('synonyms.tsv', sep=\"\\t\", index=False, quoting=None)"
   ]
  },
  {
   "cell_type": "code",
   "execution_count": 88,
   "id": "60c75444-c061-4e79-8fdd-286f963fdee0",
   "metadata": {
    "tags": []
   },
   "outputs": [],
   "source": [
    "%%bash\n",
    "gndiff --format pretty synonyms.tsv ncbi_viridiplantae.tsv > round_2.json"
   ]
  },
  {
   "cell_type": "code",
   "execution_count": 89,
   "id": "63f95d6b-a3bf-40be-924f-20df5447f8d0",
   "metadata": {
    "tags": []
   },
   "outputs": [],
   "source": [
    "# Read results from gndiff\n",
    "with open('round_2.json', 'r') as fh:\n",
    "    hits2 = json.load(fh)\n",
    "\n",
    "# Classify status of results by our criteria\n",
    "hits2_parsed = []\n",
    "for i in hits2['Matches']:\n",
    "    rec = classify_gndiff_result(i)\n",
    "    hits2_parsed.append(rec)\n",
    "\n",
    "# Convert to data frame\n",
    "hits2_df = pd.DataFrame(hits2_parsed).fillna('')"
   ]
  },
  {
   "cell_type": "code",
   "execution_count": 90,
   "id": "fe2c9ece-2705-4e77-8da2-296c4881b872",
   "metadata": {},
   "outputs": [
    {
     "data": {
      "text/plain": [
       "(21131, 5)"
      ]
     },
     "execution_count": 90,
     "metadata": {},
     "output_type": "execute_result"
    }
   ],
   "source": [
    "hits2_df.shape"
   ]
  },
  {
   "cell_type": "code",
   "execution_count": 91,
   "id": "4a9f4c27-008e-4623-b858-63b2a51cfef3",
   "metadata": {},
   "outputs": [
    {
     "data": {
      "text/plain": [
       "(20323, 5)"
      ]
     },
     "execution_count": 91,
     "metadata": {},
     "output_type": "execute_result"
    }
   ],
   "source": [
    "# Majority of synonyms do not have a hit\n",
    "hits2_df.query('ncbi_taxonID == \"\"').shape"
   ]
  },
  {
   "cell_type": "code",
   "execution_count": 92,
   "id": "6cb44f0c-014a-4e77-a9ce-554432c7807e",
   "metadata": {
    "tags": []
   },
   "outputs": [
    {
     "data": {
      "text/html": [
       "<div>\n",
       "<style scoped>\n",
       "    .dataframe tbody tr th:only-of-type {\n",
       "        vertical-align: middle;\n",
       "    }\n",
       "\n",
       "    .dataframe tbody tr th {\n",
       "        vertical-align: top;\n",
       "    }\n",
       "\n",
       "    .dataframe thead th {\n",
       "        text-align: right;\n",
       "    }\n",
       "</style>\n",
       "<table border=\"1\" class=\"dataframe\">\n",
       "  <thead>\n",
       "    <tr style=\"text-align: right;\">\n",
       "      <th></th>\n",
       "      <th>gbif_speciesName</th>\n",
       "      <th>gbif_taxonID</th>\n",
       "      <th>ncbi_speciesName</th>\n",
       "      <th>ncbi_taxonID</th>\n",
       "      <th>status</th>\n",
       "    </tr>\n",
       "  </thead>\n",
       "  <tbody>\n",
       "    <tr>\n",
       "      <th>14</th>\n",
       "      <td>Potentilla humifusa (Fr.) Zimmeter</td>\n",
       "      <td>7853059</td>\n",
       "      <td>Potentilla humifusa Willd.</td>\n",
       "      <td>1819534</td>\n",
       "      <td>author_mismatch</td>\n",
       "    </tr>\n",
       "    <tr>\n",
       "      <th>55</th>\n",
       "      <td>Rubus rugosus G.Jens.</td>\n",
       "      <td>8639283</td>\n",
       "      <td>Rubus rugosus</td>\n",
       "      <td>2487660</td>\n",
       "      <td>noauthor</td>\n",
       "    </tr>\n",
       "    <tr>\n",
       "      <th>56</th>\n",
       "      <td>Rubus rugosus G.Jens. ex Lange</td>\n",
       "      <td>7726759</td>\n",
       "      <td>Rubus rugosus</td>\n",
       "      <td>2487660</td>\n",
       "      <td>noauthor</td>\n",
       "    </tr>\n",
       "    <tr>\n",
       "      <th>61</th>\n",
       "      <td>Salix matsudana var. tortuosa Vilm.</td>\n",
       "      <td>8309320</td>\n",
       "      <td>Salix matsudana var. tortuosa Vilm.</td>\n",
       "      <td>349989</td>\n",
       "      <td>exact_match</td>\n",
       "    </tr>\n",
       "    <tr>\n",
       "      <th>69</th>\n",
       "      <td>Salix matsudana f. tortuosa (Vilm.) Rehder</td>\n",
       "      <td>6711149</td>\n",
       "      <td>Salix matsudana var. tortuosa Vilm.</td>\n",
       "      <td>349989</td>\n",
       "      <td>author_mismatch</td>\n",
       "    </tr>\n",
       "    <tr>\n",
       "      <th>...</th>\n",
       "      <td>...</td>\n",
       "      <td>...</td>\n",
       "      <td>...</td>\n",
       "      <td>...</td>\n",
       "      <td>...</td>\n",
       "    </tr>\n",
       "    <tr>\n",
       "      <th>20967</th>\n",
       "      <td>Peucedanum sulcatum Nyman</td>\n",
       "      <td>7588748</td>\n",
       "      <td>Peucedanum sulcatum Sond.</td>\n",
       "      <td>408988</td>\n",
       "      <td>author_mismatch</td>\n",
       "    </tr>\n",
       "    <tr>\n",
       "      <th>21066</th>\n",
       "      <td>Schkuhria pinnata (Lam.) Kuntze</td>\n",
       "      <td>8346536</td>\n",
       "      <td>Schkuhria pinnata (Lam.) Kuntze ex Thell.</td>\n",
       "      <td>176579</td>\n",
       "      <td>author_mismatch</td>\n",
       "    </tr>\n",
       "    <tr>\n",
       "      <th>21070</th>\n",
       "      <td>Schkuhria pinnata Kuntze ex Heiser, 1945</td>\n",
       "      <td>8208789</td>\n",
       "      <td>Schkuhria pinnata (Lam.) Kuntze ex Thell.</td>\n",
       "      <td>176579</td>\n",
       "      <td>author_mismatch</td>\n",
       "    </tr>\n",
       "    <tr>\n",
       "      <th>21094</th>\n",
       "      <td>Schkuhria pinnata (Lam.) Cabrera</td>\n",
       "      <td>7752372</td>\n",
       "      <td>Schkuhria pinnata (Lam.) Kuntze ex Thell.</td>\n",
       "      <td>176579</td>\n",
       "      <td>author_mismatch</td>\n",
       "    </tr>\n",
       "    <tr>\n",
       "      <th>21106</th>\n",
       "      <td>Schkuhria pinnata (Lam.) Kuntze ex Thell.</td>\n",
       "      <td>3101235</td>\n",
       "      <td>Schkuhria pinnata (Lam.) Kuntze ex Thell.</td>\n",
       "      <td>176579</td>\n",
       "      <td>exact_match</td>\n",
       "    </tr>\n",
       "  </tbody>\n",
       "</table>\n",
       "<p>808 rows × 5 columns</p>\n",
       "</div>"
      ],
      "text/plain": [
       "                                 gbif_speciesName gbif_taxonID  \\\n",
       "14             Potentilla humifusa (Fr.) Zimmeter      7853059   \n",
       "55                          Rubus rugosus G.Jens.      8639283   \n",
       "56                 Rubus rugosus G.Jens. ex Lange      7726759   \n",
       "61            Salix matsudana var. tortuosa Vilm.      8309320   \n",
       "69     Salix matsudana f. tortuosa (Vilm.) Rehder      6711149   \n",
       "...                                           ...          ...   \n",
       "20967                   Peucedanum sulcatum Nyman      7588748   \n",
       "21066             Schkuhria pinnata (Lam.) Kuntze      8346536   \n",
       "21070    Schkuhria pinnata Kuntze ex Heiser, 1945      8208789   \n",
       "21094            Schkuhria pinnata (Lam.) Cabrera      7752372   \n",
       "21106   Schkuhria pinnata (Lam.) Kuntze ex Thell.      3101235   \n",
       "\n",
       "                                ncbi_speciesName ncbi_taxonID           status  \n",
       "14                    Potentilla humifusa Willd.      1819534  author_mismatch  \n",
       "55                                 Rubus rugosus      2487660         noauthor  \n",
       "56                                 Rubus rugosus      2487660         noauthor  \n",
       "61           Salix matsudana var. tortuosa Vilm.       349989      exact_match  \n",
       "69           Salix matsudana var. tortuosa Vilm.       349989  author_mismatch  \n",
       "...                                          ...          ...              ...  \n",
       "20967                  Peucedanum sulcatum Sond.       408988  author_mismatch  \n",
       "21066  Schkuhria pinnata (Lam.) Kuntze ex Thell.       176579  author_mismatch  \n",
       "21070  Schkuhria pinnata (Lam.) Kuntze ex Thell.       176579  author_mismatch  \n",
       "21094  Schkuhria pinnata (Lam.) Kuntze ex Thell.       176579  author_mismatch  \n",
       "21106  Schkuhria pinnata (Lam.) Kuntze ex Thell.       176579      exact_match  \n",
       "\n",
       "[808 rows x 5 columns]"
      ]
     },
     "execution_count": 92,
     "metadata": {},
     "output_type": "execute_result"
    }
   ],
   "source": [
    "hits2_df.query('ncbi_taxonID != \"\"')"
   ]
  },
  {
   "cell_type": "code",
   "execution_count": 93,
   "id": "da2b4b1e-2720-473c-bffe-a69431c7396c",
   "metadata": {
    "tags": []
   },
   "outputs": [],
   "source": [
    "# Get synonyms with hits from the second round of matching\n",
    "round2_matched = pd.merge(\n",
    "    left=round1_nohits_synonyms,\n",
    "    right=hits2_df.query('ncbi_taxonID != \"\"'),\n",
    "    how='right',\n",
    "    left_on=\"taxonID\",\n",
    "    right_on=\"gbif_taxonID\"\n",
    ")[[\n",
    "    'dataset_scientificName',\n",
    "    'dataset_taxonID',\n",
    "    'acceptedNameUsageID',\n",
    "    'acceptedName',\n",
    "    'gbif_speciesName',\n",
    "    'gbif_taxonID',\n",
    "    'taxonomicStatus',\n",
    "    'ncbi_speciesName',\n",
    "    'ncbi_taxonID',\n",
    "    'status'\n",
    "]]"
   ]
  },
  {
   "cell_type": "code",
   "execution_count": 97,
   "id": "79d2141b-28c3-4b43-bef4-8bc61de67768",
   "metadata": {},
   "outputs": [
    {
     "data": {
      "text/plain": [
       "(4073, 10)"
      ]
     },
     "execution_count": 97,
     "metadata": {},
     "output_type": "execute_result"
    }
   ],
   "source": [
    "round1_matched.shape"
   ]
  },
  {
   "cell_type": "code",
   "execution_count": 98,
   "id": "14f1f5d3-d345-46b6-84a0-9606387079c7",
   "metadata": {},
   "outputs": [
    {
     "data": {
      "text/plain": [
       "(906, 10)"
      ]
     },
     "execution_count": 98,
     "metadata": {},
     "output_type": "execute_result"
    }
   ],
   "source": [
    "round2_matched.shape"
   ]
  },
  {
   "cell_type": "code",
   "execution_count": 115,
   "id": "b9f2dd63-449a-4971-aad8-387972c0ca22",
   "metadata": {},
   "outputs": [],
   "source": [
    "# Merge the original checklist names and IDs with the matched NCBI names\n",
    "dataset_merged_upd = pd.merge(\n",
    "    left=dataset_merged_curr[['dataset_scientificName','dataset_taxonID','acceptedNameUsageID','acceptedName']],\n",
    "    right=pd.concat([round1_matched,round2_matched]),\n",
    "    left_on=['dataset_scientificName','dataset_taxonID','acceptedNameUsageID','acceptedName'],\n",
    "    right_on=['dataset_scientificName','dataset_taxonID','acceptedNameUsageID','acceptedName'],\n",
    "    how='left'\n",
    ").fillna('')"
   ]
  },
  {
   "cell_type": "code",
   "execution_count": 116,
   "id": "7a246988-7e2d-4057-9f33-4852251818cd",
   "metadata": {},
   "outputs": [],
   "source": [
    "# Separate into those with and without hits\n",
    "dataset_merged_matched = dataset_merged_upd[dataset_merged_upd['gbif_speciesName'] != \"\"]\n",
    "dataset_merged_unmatched = dataset_merged_upd[dataset_merged_upd['gbif_speciesName'] == \"\"]"
   ]
  },
  {
   "cell_type": "code",
   "execution_count": 141,
   "id": "d635d416-f148-49eb-93b5-eb5374982a72",
   "metadata": {},
   "outputs": [],
   "source": [
    "# For those species without hits,\n",
    "# Fill in gbif_speciesName and taxonomicStatus with the current values corresponding to this taxonID in the GBIF backbone\n",
    "dataset_merged_unmatched = pd.merge(\n",
    "    left=gbif_backbone[['taxonID','scientificName','taxonomicStatus']].rename(columns={'taxonID' : 'gbif_taxonID', 'scientificName' : 'gbif_speciesName'}),\n",
    "    right=dataset_merged_unmatched.drop(['gbif_speciesName', 'gbif_taxonID', 'taxonomicStatus'],axis=1),\n",
    "    left_on=\"gbif_taxonID\",\n",
    "    right_on=\"dataset_taxonID\",\n",
    "    how=\"right\",\n",
    ")[[\n",
    "    'dataset_scientificName',\n",
    "    'dataset_taxonID',\n",
    "    'acceptedNameUsageID',\n",
    "    'acceptedName',\n",
    "    'gbif_speciesName',\n",
    "    'gbif_taxonID',\n",
    "    'taxonomicStatus',\n",
    "    'ncbi_speciesName',\n",
    "    'ncbi_taxonID',\n",
    "    'status'\n",
    "]]"
   ]
  },
  {
   "cell_type": "code",
   "execution_count": 144,
   "id": "08529a5d-8151-40a1-98a6-449b1cfc0527",
   "metadata": {},
   "outputs": [],
   "source": [
    "# Combine again into a single table\n",
    "dataset_merged_upd = pd.concat([dataset_merged_matched,dataset_merged_unmatched]).sort_values('status')"
   ]
  }
 ],
 "metadata": {
  "kernelspec": {
   "display_name": "Python 3 (ipykernel)",
   "language": "python",
   "name": "python3"
  },
  "language_info": {
   "codemirror_mode": {
    "name": "ipython",
    "version": 3
   },
   "file_extension": ".py",
   "mimetype": "text/x-python",
   "name": "python",
   "nbconvert_exporter": "python",
   "pygments_lexer": "ipython3",
   "version": "3.11.4"
  }
 },
 "nbformat": 4,
 "nbformat_minor": 5
}
