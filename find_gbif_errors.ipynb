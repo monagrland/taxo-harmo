{
 "cells": [
  {
   "cell_type": "markdown",
   "id": "55f0a0f5-16f8-4050-bc32-de0bf286bdb1",
   "metadata": {},
   "source": [
    "Objectives\n",
    "\n",
    " * Find deprecated GBIF taxonIDs in Wikidata and update them with the latest ones that are accepted in the GBIF Taxonomy, if available\n",
    "   * Strategy: Get all records from Wikidata with GBIF taxonIDs, compare against current version of GBIF Backbone Taxonomy. If deleted, search for currently accepted GBIF taxonID\n",
    "   * Getting all taxa with GBIF taxonIDs will timeout. We can instead get a list of all genera (or families), and then progressively work through child taxa for each genus\n",
    " * Find homonyms\n",
    "   * "
   ]
  },
  {
   "cell_type": "code",
   "execution_count": 2,
   "id": "98841589-17f9-4159-bb70-d3517a648412",
   "metadata": {
    "tags": []
   },
   "outputs": [],
   "source": [
    "import requests\n",
    "import json\n",
    "\n",
    "from collections import Counter, defaultdict\n",
    "from lxml import etree\n",
    "from time import sleep\n",
    "from math import floor"
   ]
  },
  {
   "cell_type": "code",
   "execution_count": 4,
   "id": "d0a263b7-45b3-4c1e-9e00-b284d1d3c248",
   "metadata": {
    "tags": []
   },
   "outputs": [],
   "source": [
    "wd_url = \"https://query.wikidata.org/sparql\"\n",
    "# Get genera with GBIF taxonIDs\n",
    "query = \"\"\"\n",
    "SELECT DISTINCT ?item ?gbif WHERE {\n",
    "  ?item wdt:P105 wd:Q34740;\n",
    "        wdt:P846 ?gbif.\n",
    "}\n",
    "\"\"\"\n",
    "\n",
    "req = requests.get(wd_url, params = {'query' : query })"
   ]
  },
  {
   "cell_type": "code",
   "execution_count": 5,
   "id": "9739b565-f6c4-4a09-bbd9-55dc1de00bcc",
   "metadata": {
    "tags": []
   },
   "outputs": [
    {
     "data": {
      "text/plain": [
       "True"
      ]
     },
     "execution_count": 5,
     "metadata": {},
     "output_type": "execute_result"
    }
   ],
   "source": [
    "req.ok"
   ]
  },
  {
   "cell_type": "code",
   "execution_count": 7,
   "id": "2119c2b8-8443-4bf3-b9ad-cc92e9b5f12d",
   "metadata": {
    "tags": []
   },
   "outputs": [
    {
     "data": {
      "text/plain": [
       "'https://query.wikidata.org/sparql?query=%0ASELECT+DISTINCT+%3Fitem+%3Fgbif+WHERE+%7B%0A++%3Fitem+wdt%3AP105+wd%3AQ34740%3B%0A++++++++wdt%3AP846+%3Fgbif.%0A%7D%0A'"
      ]
     },
     "execution_count": 7,
     "metadata": {},
     "output_type": "execute_result"
    }
   ],
   "source": [
    "req.url"
   ]
  },
  {
   "cell_type": "code",
   "execution_count": 51,
   "id": "a67b5935-30e9-4040-bf8d-bf943b73c184",
   "metadata": {
    "tags": []
   },
   "outputs": [],
   "source": [
    "# Parse XML\n",
    "rtree = etree.fromstring(\n",
    "    req.text.encode()\n",
    ") # .encode otherwise ValueError \"Unicode strings with encoding declaration are not supported\"\n",
    "# Strip namespace prefix\n",
    "for e in rtree.getiterator():\n",
    "    e.tag = etree.QName(e).localname\n",
    "\n",
    "gbif2wd = defaultdict(list)\n",
    "for e in rtree.iterdescendants('result'):\n",
    "    res_dict = {ee.get('name') : [i.text for i in ee.getchildren()] for ee in e.findall('binding')}\n",
    "    for gbif in res_dict['gbif']:\n",
    "        gbif2wd[gbif].extend(res_dict['item'])"
   ]
  },
  {
   "cell_type": "code",
   "execution_count": 58,
   "id": "0ce685d8-566b-4348-8a91-544d4d319938",
   "metadata": {
    "tags": []
   },
   "outputs": [],
   "source": [
    "# Errors: Duplicate GBIF ID - either duplicate record in Wikidata or homonym linked in error\n",
    "duplicate_gbif_id = {i: gbif2wd[i] for i in gbif2wd if len(gbif2wd[i]) > 1}"
   ]
  },
  {
   "cell_type": "code",
   "execution_count": 47,
   "id": "92463464-3540-4ac3-82a6-4c06bec018ba",
   "metadata": {
    "tags": []
   },
   "outputs": [
    {
     "data": {
      "text/plain": [
       "{'item': ['http://www.wikidata.org/entity/Q46660'], 'gbif': ['4974046']}"
      ]
     },
     "execution_count": 47,
     "metadata": {},
     "output_type": "execute_result"
    }
   ],
   "source": [
    "res_dict"
   ]
  },
  {
   "cell_type": "markdown",
   "id": "63a94743-5eb4-4af9-a2b8-743f21a96ca8",
   "metadata": {},
   "source": [
    "Example searches:\n",
    "\n",
    "Get all genera level taxa with GBIF IDs (searching for species level taxa will timeout):\n",
    "```\n",
    "SELECT DISTINCT ?item ?gbif WHERE {\n",
    "  ?item wdt:P105 wd:Q34740;\n",
    "        wdt:P846 ?gbif.\n",
    "}\n",
    "```\n",
    "\n",
    "Search by GBIF ID, get taxon name property and taxon author qualifier, as well as botanist author abbreviation\n",
    "```\n",
    "SELECT DISTINCT ?item ?itemLabel ?taxonname ?taxonauthor ?taxonauthorLabel ?botanist WHERE {\n",
    "  SERVICE wikibase:label { bd:serviceParam wikibase:language \"[AUTO_LANGUAGE]\". }\n",
    "  ?item wdt:P846 \"8178883\";\n",
    "        wdt:P225 ?taxonname.\n",
    "  OPTIONAL { ?item p:P225 ?tname . ?tname pq:P405 ?taxonauthor . ?taxonauthor wdt:P428 ?botanist }\n",
    "}\n",
    "```\n",
    "\n",
    "Traverse graph to find child taxa of Q158501\n",
    "```\n",
    "PREFIX gas: <http://www.bigdata.com/rdf/gas#>\n",
    "\n",
    "SELECT ?item ?itemLabel ?linkTo\n",
    "WHERE\n",
    "{\n",
    "  SERVICE gas:service {\n",
    "    gas:program gas:gasClass \"com.bigdata.rdf.graph.analytics.SSSP\" ;\n",
    "                gas:in wd:Q158501;\n",
    "                gas:traversalDirection \"Reverse\" ;\n",
    "                gas:out ?item ;\n",
    "                gas:out1 ?depth ;\n",
    "                gas:maxIterations 3 ;\n",
    "                gas:linkType wdt:P171 .\n",
    "  }\n",
    "  OPTIONAL { ?item wdt:P171 ?linkTo }\n",
    "  SERVICE wikibase:label {bd:serviceParam wikibase:language \"en\" }\n",
    "}\n",
    "```"
   ]
  },
  {
   "cell_type": "code",
   "execution_count": null,
   "id": "d64cebfb-ed7b-4250-b055-ecaab26db4ef",
   "metadata": {},
   "outputs": [],
   "source": [
    "def query_wikidata_by_taxonIDs(ids, p_number_in=\"P846\", p_number_out=\"P685\", chunksize=100, sleeplen=2, url=\"https://query.wikidata.org/sparql\"):\n",
    "    \"\"\"\n",
    "    Given a list of taxonIDs, e.g. GBIF, find linked taxonIDs of another type, e.g. NCBI, from Wikidata.\n",
    "    The P-numbers for the query and return taxonIDs should be specified. This function formulates a\n",
    "    simple SPARQL query and submits it in chunks to the Wikidata servers.\n",
    "    \n",
    "    Parameters\n",
    "    ----------\n",
    "    ids : list\n",
    "        List of taxonIDs\n",
    "    p_number_in : str\n",
    "        P number of the taxon identifier to query (default: P846 for GBIF Backbone)\n",
    "    p_number_out : str\n",
    "        P number of the linked taxon identifiers to return (default: P685 for NCBI Taxonomy)\n",
    "    chunksize : int\n",
    "        Number of records to search at once; limited to 100 (default 100)\n",
    "    sleeplen : int\n",
    "        Seconds to pause between chunks (default 2)\n",
    "    url : str\n",
    "        Wikidata Spaqrl query URL (default https://query.wikidata.org/sparql)\n",
    "    \n",
    "    Returns\n",
    "    -------\n",
    "    list\n",
    "        List of dicts, with keys 'gbif_taxonID','wikidata_uri','ncbi_taxonID_wd'\n",
    "    \"\"\"\n",
    "    if chunksize > 100:\n",
    "        chunksize = 100 # Limit chunk size to 100\n",
    "    out = []\n",
    "    for chunk in range(0,floor(len(ids)/chunksize)+1):\n",
    "        id_string = \" \".join(\n",
    "            ['\\\"' + str(i) +'\\\"' \n",
    "             for i in ids[chunk*chunksize : (chunk+1)*chunksize]]\n",
    "        ) # Operate in chunks of chunksize, with pause between queries\n",
    "\n",
    "        query = \"\"\"\n",
    "        SELECT ?item ?itemLabel ?rprop ?rpropLabel ?taxonname ?taxonnameLabel ?QPROP WHERE {\n",
    "          VALUES ?QPROP {%s}\n",
    "          ?item wdt:%s ?QPROP.\n",
    "          OPTIONAL {\n",
    "            ?item wdt:%s ?rprop.\n",
    "            ?item wdt:P225 ?taxonname.\n",
    "          }\n",
    "          SERVICE wikibase:label { bd:serviceParam wikibase:language \"[AUTO_LANGUAGE],en\". }\n",
    "        }\n",
    "        LIMIT 100\n",
    "\n",
    "\n",
    "        \"\"\" % (id_string, p_number_in, p_number_out) # str.format doesn't work for some reason\n",
    "        r1 = requests.get(url, params={'query' : query})\n",
    "\n",
    "        # If OK, parse\n",
    "        if r1.ok:\n",
    "            # Parse XML\n",
    "            rtree = etree.fromstring(\n",
    "                r1.text.encode()\n",
    "            ) # .encode otherwise ValueError \"Unicode strings with encoding declaration are not supported\"\n",
    "            # Strip namespace prefix\n",
    "            for e in rtree.getiterator():\n",
    "                e.tag = etree.QName(e).localname\n",
    "\n",
    "            # Translate results to dictionary\n",
    "            for e in rtree.iterdescendants('result'):\n",
    "                res_dict = {ee.get('name') : ee for ee in e.findall('binding')}\n",
    "                res = { \n",
    "                    'query_taxonID' : res_dict['QPROP'].find('literal').text,\n",
    "                    'wikidata_uri' : res_dict['item'].find('uri').text,\n",
    "                }\n",
    "                if 'rprop' in res_dict:\n",
    "                    res['linked_taxonID_wd'] = res_dict['rprop'].find('literal').text\n",
    "                out.append(res)\n",
    "\n",
    "        # sleep 2 sec before next iteration\n",
    "        sleep(sleeplen)\n",
    "    return(out)"
   ]
  }
 ],
 "metadata": {
  "kernelspec": {
   "display_name": "Python [conda env:taxo-harmo]",
   "language": "python",
   "name": "conda-env-taxo-harmo-py"
  },
  "language_info": {
   "codemirror_mode": {
    "name": "ipython",
    "version": 3
   },
   "file_extension": ".py",
   "mimetype": "text/x-python",
   "name": "python",
   "nbconvert_exporter": "python",
   "pygments_lexer": "ipython3",
   "version": "3.11.4"
  }
 },
 "nbformat": 4,
 "nbformat_minor": 5
}
