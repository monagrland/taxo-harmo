{
 "cells": [
  {
   "cell_type": "code",
   "execution_count": 377,
   "id": "921a69fd-ea6a-41e8-b9c9-64ce008ccce1",
   "metadata": {
    "tags": []
   },
   "outputs": [],
   "source": [
    "import json\n",
    "import unicodedata\n",
    "from pprint import pprint\n",
    "import textdistance as td\n",
    "import pandas as pd\n",
    "import itertools"
   ]
  },
  {
   "cell_type": "code",
   "execution_count": 145,
   "id": "0d8ecb38-1a78-48c7-a906-7fcdf4afb92a",
   "metadata": {
    "tags": []
   },
   "outputs": [],
   "source": [
    "def normalize_all(s):\n",
    "    return unicodedata.normalize('NFD', s).encode('ASCII','ignore').decode()\n",
    "\n",
    "def normalize_german(s):\n",
    "    uml = {'Ä' : 'Ae', 'Ö' : 'Oe', 'Ü' : 'Ue', 'ä' : 'ae', 'ö' : 'oe', 'ü' : 'ue'}\n",
    "    for uu in uml:\n",
    "        s = s.replace(uu, uml[uu])\n",
    "    return(s)"
   ]
  },
  {
   "cell_type": "code",
   "execution_count": 3,
   "id": "e1c65f5f-e6f7-47d6-8fde-43226daa5516",
   "metadata": {
    "tags": []
   },
   "outputs": [],
   "source": [
    "with open(\"name-match/round_1.json\", \"r\") as fh:\n",
    "    res = json.load(fh)"
   ]
  },
  {
   "cell_type": "code",
   "execution_count": 262,
   "id": "58c1e056-83bf-4900-aa5b-71b4e4e35eb6",
   "metadata": {
    "tags": []
   },
   "outputs": [],
   "source": [
    "ex1a = ['L.', \"L'Her.\"]\n",
    "ex1b = ['L.', \"L'Hér.\"]\n",
    "\n",
    "ex2a = ['A. Schumach.', 'H. E. Weber']\n",
    "ex2b = ['Schumach.', 'H. E. Weber']"
   ]
  },
  {
   "cell_type": "code",
   "execution_count": 373,
   "id": "f419ffb2-6fed-480c-87c4-92f3b605fa13",
   "metadata": {
    "tags": []
   },
   "outputs": [],
   "source": [
    "output = []\n",
    "for m in res['Matches']:\n",
    "    s = m['sourceRecord']\n",
    "    try:\n",
    "        r = max([j for j in m['referenceRecords'] if j['matchType'] == \"Exact\"], key=lambda x: x['score'])\n",
    "        if r and 'authors' in s and 'authors' in r:\n",
    "            rr = r['authors']\n",
    "            ss = s['authors']\n",
    "            #if len(rr) != len(ss):\n",
    "            if rr == ss:\n",
    "                case = \"match\"\n",
    "            elif rr != ss:\n",
    "                if [normalize_all(x) for x in rr] == [normalize_all(y) for y in ss]:\n",
    "                    case = \"match_no_diacritics\"\n",
    "                elif [normalize_german(x) for x in rr] == [normalize_german(y) for y in ss]:\n",
    "                    case = \"match_normalized_umlaut\"\n",
    "                elif len(rr) == len(ss):\n",
    "                    # Find longest common subsequences\n",
    "                    # Difference is usually in how author names are abbreviated\n",
    "                    # so lcsseq is the most appropriate distance measure.\n",
    "                    # Strip the trailing . from abbreviated names\n",
    "                    lsseq_scores = {}\n",
    "                    for a1, a2 in zip(rr, ss):\n",
    "                        lsseq = td.lcsseq(a1.rstrip('.'), a2.rstrip('.'))\n",
    "                        score = len(lsseq) / min([len(a1.rstrip('.')), len(a2.rstrip('.'))])\n",
    "                        lsseq_scores[(a1,a2)] = {'lsseq' : lsseq, 'score' : score}\n",
    "                    if all([lsseq_scores[k]['score'] == 1.0 for k in lsseq_scores]):\n",
    "                        case = \"subseq_contained\"\n",
    "                    elif any([lsseq_scores[k]['score'] == 0 for k in lsseq_scores]):\n",
    "                        case = \"mismatch\"\n",
    "                    else:\n",
    "                        case = \"check\"\n",
    "                else:\n",
    "                    case = \"author_count_mismatch\"\n",
    "        output.append({\n",
    "            'authors1' : rr,\n",
    "            'authors2' : ss,\n",
    "            'case' : case,\n",
    "        })\n",
    "    except ValueError: # no referenceRecord with matchType \"Exact\"\n",
    "        pass"
   ]
  },
  {
   "cell_type": "code",
   "execution_count": 352,
   "id": "a4063a51-8b01-4d18-991f-cd7bbac7c0e7",
   "metadata": {
    "scrolled": true,
    "tags": []
   },
   "outputs": [
    {
     "data": {
      "text/plain": [
       "[{'authors1': ['Sievers', 'O. Appel'],\n",
       "  'authors2': ['L.', 'O. Appel'],\n",
       "  'case': 'mismatch'},\n",
       " {'authors1': ['L.', 'Peterm.'],\n",
       "  'authors2': ['L.', 'Link'],\n",
       "  'case': 'mismatch'},\n",
       " {'authors1': ['L.', 'Peterm.'],\n",
       "  'authors2': ['L.', 'Link'],\n",
       "  'case': 'mismatch'},\n",
       " {'authors1': ['Jacq.', 'DC.'], 'authors2': ['L.', 'DC.'], 'case': 'mismatch'},\n",
       " {'authors1': ['Laest.', 'Rchb. fil.', 'Soo'],\n",
       "  'authors2': ['Laest.', 'Hartm.', 'Soó'],\n",
       "  'case': 'mismatch'},\n",
       " {'authors1': ['L.', 'Willd.'],\n",
       "  'authors2': ['L.', 'Desf.'],\n",
       "  'case': 'mismatch'},\n",
       " {'authors1': ['Nathh.', 'DC.'],\n",
       "  'authors2': ['L.', 'DC.'],\n",
       "  'case': 'mismatch'},\n",
       " {'authors1': ['Nathh.', 'DC.'],\n",
       "  'authors2': ['L.', 'DC.'],\n",
       "  'case': 'mismatch'},\n",
       " {'authors1': ['L.', 'Rchb.'],\n",
       "  'authors2': ['L.', 'Sweet'],\n",
       "  'case': 'mismatch'},\n",
       " {'authors1': ['Sims', 'DC.'],\n",
       "  'authors2': ['Sims', 'Sweet'],\n",
       "  'case': 'mismatch'},\n",
       " {'authors1': ['Mill.', 'Fuss'],\n",
       "  'authors2': ['Mill.', 'A. W. Hill'],\n",
       "  'case': 'mismatch'},\n",
       " {'authors1': ['L.', 'Pilg.'],\n",
       "  'authors2': ['L.', 'Besser'],\n",
       "  'case': 'mismatch'},\n",
       " {'authors1': ['L.', 'Pilg.'],\n",
       "  'authors2': ['L.', 'Besser'],\n",
       "  'case': 'mismatch'},\n",
       " {'authors1': ['Schrad.', 'DC.'],\n",
       "  'authors2': ['Schrad.', 'Rchb.'],\n",
       "  'case': 'mismatch'},\n",
       " {'authors1': ['L.', 'Fourr.'],\n",
       "  'authors2': ['L.', 'Raf.'],\n",
       "  'case': 'mismatch'},\n",
       " {'authors1': ['L.', 'Willd.'],\n",
       "  'authors2': ['L.', 'Chaz.'],\n",
       "  'case': 'mismatch'},\n",
       " {'authors1': ['L.', 'Sm.'], 'authors2': ['L.', 'Roth'], 'case': 'mismatch'},\n",
       " {'authors1': ['All.', 'Rchb.'],\n",
       "  'authors2': ['L.', 'Rchb.'],\n",
       "  'case': 'mismatch'},\n",
       " {'authors1': ['Moss', 'Wager'],\n",
       "  'authors2': ['Ridl.', 'Moss'],\n",
       "  'case': 'mismatch'},\n",
       " {'authors1': ['Beck', 'Prain'],\n",
       "  'authors2': ['Beck', 'Hedl.'],\n",
       "  'case': 'mismatch'},\n",
       " {'authors1': ['L.', 'Roth'],\n",
       "  'authors2': ['L.', 'Durande'],\n",
       "  'case': 'mismatch'},\n",
       " {'authors1': ['Ehrh.', 'Lej.'],\n",
       "  'authors2': ['Retz.', 'Lej.'],\n",
       "  'case': 'mismatch'},\n",
       " {'authors1': ['Lam.', 'Spach'],\n",
       "  'authors2': ['Poir.', 'Spach'],\n",
       "  'case': 'mismatch'},\n",
       " {'authors1': ['DC.', 'F. Muell.'],\n",
       "  'authors2': ['Pers.', 'F. Muell.'],\n",
       "  'case': 'mismatch'},\n",
       " {'authors1': ['L.', 'Parl.'],\n",
       "  'authors2': ['Bassi', 'Parl.'],\n",
       "  'case': 'mismatch'},\n",
       " {'authors1': ['Vill.', 'O. E. Schulz'],\n",
       "  'authors2': ['L.', 'O. E. Schulz'],\n",
       "  'case': 'mismatch'}]"
      ]
     },
     "execution_count": 352,
     "metadata": {},
     "output_type": "execute_result"
    }
   ],
   "source": [
    "[i for i in output if i['case'] == 'mismatch']"
   ]
  },
  {
   "cell_type": "code",
   "execution_count": 376,
   "id": "46dbdc09-ea7f-4f16-9fd7-cc4280d394f4",
   "metadata": {
    "tags": []
   },
   "outputs": [
    {
     "data": {
      "text/plain": [
       "case\n",
       "match                      3761\n",
       "author_count_mismatch       169\n",
       "subseq_contained            103\n",
       "match_no_diacritics          50\n",
       "check                        49\n",
       "mismatch                     26\n",
       "match_normalized_umlaut       6\n",
       "Name: count, dtype: int64"
      ]
     },
     "execution_count": 376,
     "metadata": {},
     "output_type": "execute_result"
    }
   ],
   "source": [
    "pd.DataFrame(output).value_counts('case', dropna=False)"
   ]
  },
  {
   "cell_type": "code",
   "execution_count": 374,
   "id": "ade28ad8-9b8e-4d75-899a-0cb9856a538d",
   "metadata": {
    "tags": []
   },
   "outputs": [],
   "source": [
    "# Get all the names and look them up in Wikidata\n",
    "# botanist author abbreviation https://www.wikidata.org/wiki/Property:P428\n",
    "# author citation (zoology) https://www.wikidata.org/wiki/Property:P835\n",
    "allnames = list(set(itertools.chain.from_iterable([i['authors1'] + i['authors2'] for i in output])))"
   ]
  },
  {
   "cell_type": "code",
   "execution_count": 375,
   "id": "2c89afad-c296-42b1-a0d5-30f433da305f",
   "metadata": {
    "tags": []
   },
   "outputs": [
    {
     "data": {
      "text/plain": [
       "'\"Celak.\" \"Jérôme\" \"A.Chev.\" \"Rchb.fil.\" \"Prokudin\" \"Hogg\" \"W.C.R.Watson\" \"Murray\" \"W.Koch\" \"Döll\"'"
      ]
     },
     "execution_count": 375,
     "metadata": {},
     "output_type": "execute_result"
    }
   ],
   "source": [
    "# for botany, remove spaces after the full-stop in initials\n",
    "\" \".join([(\"\\\"\" + i.replace('. ', '.') + \"\\\"\") for i in allnames[0:10]])"
   ]
  },
  {
   "cell_type": "markdown",
   "id": "433766e8-9505-43e6-97fc-f8863959889a",
   "metadata": {},
   "source": [
    "Example SPARQL query for Wikidata\n",
    "\n",
    "```\n",
    "SELECT ?item ?itemLabel ?QPROP WHERE {\n",
    "  VALUES ?QPROP {\"Celak.\" \"Jérôme\" \"A.Chev.\" \"Rchb.fil.\" \"Prokudin\" \"Hogg\" \"W.C.R.Watson\" \"Murray\" \"W.Koch\" \"Döll\"}\n",
    "  ?item wdt:P428 ?QPROP.\n",
    "  SERVICE wikibase:label { bd:serviceParam wikibase:language \"[AUTO_LANGUAGE],en\". }\n",
    "}\n",
    "LIMIT 100\n",
    "```"
   ]
  }
 ],
 "metadata": {
  "kernelspec": {
   "display_name": "Python [conda env:taxo-harmo]",
   "language": "python",
   "name": "conda-env-taxo-harmo-py"
  },
  "language_info": {
   "codemirror_mode": {
    "name": "ipython",
    "version": 3
   },
   "file_extension": ".py",
   "mimetype": "text/x-python",
   "name": "python",
   "nbconvert_exporter": "python",
   "pygments_lexer": "ipython3",
   "version": "3.11.4"
  }
 },
 "nbformat": 4,
 "nbformat_minor": 5
}
